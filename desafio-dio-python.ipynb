{
  "cells": [
    {
      "cell_type": "markdown",
      "metadata": {
        "id": "view-in-github",
        "colab_type": "text"
      },
      "source": [
        "<a href=\"https://colab.research.google.com/github/Lednew87/desafio-dio-python/blob/main/desafio-dio-python.ipynb\" target=\"_parent\"><img src=\"https://colab.research.google.com/assets/colab-badge.svg\" alt=\"Open In Colab\"/></a>"
      ]
    },
    {
      "cell_type": "markdown",
      "source": [
        "**Desafio**\n",
        "\n",
        "Imagine que você está criando um aplicativo de entrega de comida e precisa informar ao usuário o tempo\n",
        "estimado de entrega de um restaurante. A mensagem deve conter o nome do restaurante e o tempo estimado de entrega em x\n",
        "minutos.\n",
        "\n",
        "*Entrada:*\n",
        "\n",
        "A entrada deverá receber os valores abaixo:\n",
        "- nomeRestaurante (string): o nome do restaurante desejado.\n",
        "- tempoEstimadoEntrega (number): o tempo estimado de entrega em minutos.\n",
        "\n",
        "*Saída:*\n",
        "\n",
        "- Deverá retornar uma mensagem (string) informando ao usuário o tempo estimado de entrega do\n",
        "restaurante."
      ],
      "metadata": {
        "id": "BwhyLwNUqm-n"
      }
    },
    {
      "cell_type": "code",
      "source": [
        "s1 = 'O restaurante %s entrega em %d minutos.'\n",
        "nomeRestaurante = input()\n",
        "tempoEstimadoEntrega = int(input())\n",
        "print (s1%(nomeRestaurante, tempoEstimadoEntrega))"
      ],
      "metadata": {
        "id": "lwBY8U_jn-QM"
      },
      "execution_count": null,
      "outputs": []
    },
    {
      "cell_type": "markdown",
      "source": [
        "**Desafio**\n",
        "\n",
        "Você está criando um aplicativo de entrega de comida e precisa calcular o preço final do pedido do\n",
        "usuário. O usuário escolheu alguns itens do cardápio e será preciso calcular o preço total do pedido.\n",
        "\n",
        "*Entrada:*\n",
        "\n",
        "A entrada deve receber os valores abaixo:\n",
        "- valorHamburguer: o valor unitário de um hambúrguer.\n",
        "- quantidadeHamburguer: a quantidade de hambúrgueres que o usuário deseja.\n",
        "- valorBebida: o valor unitário de uma bebida.\n",
        "- quantidadeBebida: a quantidade de bebidas que o usuário deseja.\n",
        "- valorPago: o valor pago pelo usuário.\n",
        "\n",
        "*Saída:*\n",
        "\n",
        "- A saída deve retornar um texto informando o valor total do pedido e a quantidade de troco que será necessário."
      ],
      "metadata": {
        "id": "K_vCvKM6rEG7"
      }
    },
    {
      "cell_type": "code",
      "source": [
        "valor_hamburguer = float(input())\n",
        "quantidade_hamburguer = int(input())\n",
        "valor_bebida = float(input())\n",
        "quantidade_bebida = int(input())\n",
        "valor_pago = float(input())\n",
        "\n",
        "total_hamburguer = valor_hamburguer * quantidade_hamburguer\n",
        "total_bebida = valor_bebida * quantidade_bebida\n",
        "troco = valor_pago - (total_bebida + total_hamburguer)\n",
        "\n",
        "print(f\"O preço final do pedido é R$ {total_hamburguer + total_bebida:.2f}. Seu troco é R$ {troco:.2f}.\")"
      ],
      "metadata": {
        "id": "kcg8VmAIpG7l"
      },
      "execution_count": null,
      "outputs": []
    },
    {
      "cell_type": "markdown",
      "source": [
        "**Desafio**\n",
        "\n",
        "Crie um programa que informe ao usuário se ele pode receber um brinde especial conforme o valor total\n",
        "do pedido. Se o valor total do pedido for maior ou igual a R$ 50.00, o usuário receberá uma sobremesa grátis. Caso\n",
        "contrário, o usuário não receberá nenhum brinde.\n",
        "\n",
        "*Entrada:*\n",
        "\n",
        "A entrada deverá receber o valor total do pedido em uma variável numérica:\n",
        "- valorPedido: o valor do pedido.\n",
        "\n",
        "*Saída:*\n",
        "\n",
        "- Deverá retornar uma mensagem (string) que informa se o usuário ganhou uma sobremesa ou não."
      ],
      "metadata": {
        "id": "mmbSJaPvqtzR"
      }
    },
    {
      "cell_type": "code",
      "source": [
        "valor_pedido = int(input())\n",
        "\n",
        "if valor_pedido >= 50:\n",
        "    print(\"Parabens, você ganhou uma sobremesa gratis!\")\n",
        "else:\n",
        "    print(\"Que pena, você nao ganhou nenhum brinde especial.\")"
      ],
      "metadata": {
        "id": "p2njKnhxqF07"
      },
      "execution_count": null,
      "outputs": []
    },
    {
      "cell_type": "markdown",
      "source": [
        "**Desafio**\n",
        "\n",
        "Você foi contratado para desenvolver um sistema que armazena informações dos pedidos de comida online\n",
        "realizados por um cliente. O sistema deve permitir ao cliente inserir novos pedidos, escolher um cupom de desconto\n",
        "(10% ou 20%) e exibir o valor total de todos os pedidos realizados até o momento, com o desconto aplicado.\n",
        "\n",
        "*Entrada:*\n",
        "\n",
        "A entrada é composta por:\n",
        "- Uma linha com um número inteiro \"n\" representando a quantidade de pedidos que o usuário deseja inserir; \"n\" linhas,\n",
        "cada uma contendo uma string com o nome do pedido e um valor em ponto flutuante separados por espaço.\n",
        "- O nome do\n",
        "pedido não contém espaços em branco; uma linha contendo o cupom de desconto escolhido (10% ou 20%).\n",
        "\n",
        "*Saída:*\n",
        "\n",
        "- O programa deve exibir uma única linha contendo o valor total de todos os pedidos com o desconto aplicado, no seguinte formato:\n",
        "'Valor total: XX.YY, onde \"XX.YY\" é a soma de todos os pedidos com desconto em formato de duas casas decimais após a vírgula."
      ],
      "metadata": {
        "id": "R6joNkFBsAIR"
      }
    },
    {
      "cell_type": "code",
      "source": [
        "def main():\n",
        "    n = int(input())\n",
        "\n",
        "    total = 0\n",
        "\n",
        "    for i in range(1, n + 1):\n",
        "        pedido = input().split(\" \")\n",
        "        nome = pedido[0]\n",
        "        valor = float(pedido[1])\n",
        "        total += valor\n",
        "\n",
        "    cupom = input()\n",
        "    if cupom == \"10%\":\n",
        "        desconto = total * 0.1\n",
        "    elif cupom == \"20%\":\n",
        "        desconto = total * 0.2\n",
        "\n",
        "    total_desconto = total - desconto\n",
        "\n",
        "    print(f\"Valor total: {total_desconto:.2f}\")\n",
        "\n",
        "\n",
        "if __name__ == \"__main__\":\n",
        "    main()"
      ],
      "metadata": {
        "id": "JUgz0hLQsAUA"
      },
      "execution_count": null,
      "outputs": []
    },
    {
      "cell_type": "markdown",
      "source": [
        "**Desafio**\n",
        "\n",
        "O objetivo deste programa é ajudar a equipe do Restaurante Veggieworld a identificar rapidamente os\n",
        "pedidos veganos e não veganos e informar as calorias de cada prato definido pelo cliente. O programa deve solicitar\n",
        "ao usuário o número de pedidos feitos e, em seguida, pedir informações sobre cada pedido, incluindo se o\n",
        "prato é vegano ou não (usando as opções \"s\" para sim e \"n\" para não) e a quantidade de calorias. Ao final,\n",
        "o programa deve exibir uma lista de todos os pedidos com suas informações correspondentes.\n",
        "\n",
        "*Entrada:*\n",
        "\n",
        "- Um inteiro \"n\", que representa o número de pedidos que o usuário deseja fazer.\n",
        "\n",
        "Para cada pedido, o usuário deve\n",
        "inserir:\n",
        "\n",
        "- O nome do prato;\n",
        "- A quantidade de calorias do prato;\n",
        "- se o prato é vegano ou não (usando as opções \"s\" para sim e \"n\" para não).\n",
        "\n",
        "*Saída:*\n",
        "\n",
        "- O programa deve exibir uma lista de todos os pedidos com suas informações correspondentes,\n",
        "incluindo o nome do prato, se é vegano ou não, e a quantidade de calorias."
      ],
      "metadata": {
        "id": "8KkwnLl9tNyp"
      }
    },
    {
      "cell_type": "code",
      "source": [
        "num_pedidos = int(input())\n",
        "\n",
        "for i in range(1, num_pedidos + 1):\n",
        "    prato = input()\n",
        "    calorias = int(input())\n",
        "    ehVegano = False\n",
        "    opc = input().lower()\n",
        "\n",
        "    if opc == \"s\":\n",
        "        ehVegano = True\n",
        "\n",
        "    display = \"Vegano\" if ehVegano else \"Nao-vegano\"\n",
        "\n",
        "    print(f\"Pedido {i}: {prato} ({display}) - {calorias} calorias\")"
      ],
      "metadata": {
        "id": "spoz4xhOuMXw"
      },
      "execution_count": null,
      "outputs": []
    }
  ],
  "metadata": {
    "colab": {
      "name": "Olá, este é o Colaboratory",
      "provenance": [],
      "include_colab_link": true
    },
    "kernelspec": {
      "display_name": "Python 3",
      "name": "python3"
    }
  },
  "nbformat": 4,
  "nbformat_minor": 0
}